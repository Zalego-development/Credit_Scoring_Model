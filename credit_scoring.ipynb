{
  "nbformat": 4,
  "nbformat_minor": 0,
  "metadata": {
    "colab": {
      "name": "credit_scoring.ipynb",
      "provenance": [],
      "collapsed_sections": [],
      "toc_visible": true
    },
    "kernelspec": {
      "display_name": "Python 3",
      "language": "python",
      "name": "python3"
    },
    "language_info": {
      "codemirror_mode": {
        "name": "ipython",
        "version": 3
      },
      "file_extension": ".py",
      "mimetype": "text/x-python",
      "name": "python",
      "nbconvert_exporter": "python",
      "pygments_lexer": "ipython3",
      "version": "3.7.4"
    }
  },
  "cells": [
    {
      "cell_type": "markdown",
      "metadata": {
        "id": "fxagHsWFccrj"
      },
      "source": [
        "## 1. Loading Data and Packages"
      ]
    },
    {
      "cell_type": "code",
      "metadata": {
        "id": "J8fkh90Lccrj"
      },
      "source": [
        "import pandas as pd\n",
        "import numpy as np\n",
        "import warnings\n",
        "from sklearn.ensemble import RandomForestRegressor\n",
        "warnings.filterwarnings('ignore')\n",
        "from sklearn.model_selection import train_test_split\n",
        "from sklearn.metrics import r2_score,mean_absolute_error,mean_squared_error\n",
        "from math import sqrt"
      ],
      "execution_count": 14,
      "outputs": []
    },
    {
      "cell_type": "code",
      "metadata": {
        "colab": {
          "base_uri": "https://localhost:8080/",
          "height": 243
        },
        "id": "cG9tZ53rccrl",
        "outputId": "8231fb83-3da5-41f4-d6f4-26431de96fe7"
      },
      "source": [
        "df = pd.read_excel('MOCK_DAT.xlsx')\n",
        "df.head()"
      ],
      "execution_count": 17,
      "outputs": [
        {
          "output_type": "execute_result",
          "data": {
            "text/html": [
              "<div>\n",
              "<style scoped>\n",
              "    .dataframe tbody tr th:only-of-type {\n",
              "        vertical-align: middle;\n",
              "    }\n",
              "\n",
              "    .dataframe tbody tr th {\n",
              "        vertical-align: top;\n",
              "    }\n",
              "\n",
              "    .dataframe thead th {\n",
              "        text-align: right;\n",
              "    }\n",
              "</style>\n",
              "<table border=\"1\" class=\"dataframe\">\n",
              "  <thead>\n",
              "    <tr style=\"text-align: right;\">\n",
              "      <th></th>\n",
              "      <th>id</th>\n",
              "      <th>first_name</th>\n",
              "      <th>last_name</th>\n",
              "      <th>email</th>\n",
              "      <th>gender</th>\n",
              "      <th>ip_address</th>\n",
              "      <th>Age</th>\n",
              "      <th>Years_in_job</th>\n",
              "      <th>Income</th>\n",
              "      <th>Province</th>\n",
              "      <th>Marital_status</th>\n",
              "      <th>Savings</th>\n",
              "      <th>Home_ownership</th>\n",
              "      <th>Credit_history</th>\n",
              "      <th>Number_of_accs</th>\n",
              "      <th>Open_accounts</th>\n",
              "      <th>Credit_cards</th>\n",
              "      <th>Home_loan</th>\n",
              "      <th>Overdraft</th>\n",
              "      <th>Student_Loan</th>\n",
              "      <th>Perfoming_Accs</th>\n",
              "      <th>Non_perfoming_Accs</th>\n",
              "      <th>Unnamed: 22</th>\n",
              "      <th>Closed_Accs</th>\n",
              "      <th>Open Accounts</th>\n",
              "      <th>Current_In_Arrears</th>\n",
              "      <th>Current_balance_Amt</th>\n",
              "      <th>Past_due_Amt</th>\n",
              "      <th>No_of_enquiries</th>\n",
              "      <th>Score</th>\n",
              "      <th>Grade</th>\n",
              "      <th>Def</th>\n",
              "    </tr>\n",
              "  </thead>\n",
              "  <tbody>\n",
              "    <tr>\n",
              "      <th>0</th>\n",
              "      <td>1</td>\n",
              "      <td>Germayne</td>\n",
              "      <td>Doblin</td>\n",
              "      <td>gdoblin0@bizjournals.com</td>\n",
              "      <td>Male</td>\n",
              "      <td>171.82.187.226</td>\n",
              "      <td>48</td>\n",
              "      <td>23</td>\n",
              "      <td>123970</td>\n",
              "      <td>Nairobi</td>\n",
              "      <td>Divorced</td>\n",
              "      <td>264110</td>\n",
              "      <td>Own Home</td>\n",
              "      <td>18</td>\n",
              "      <td>79</td>\n",
              "      <td>4</td>\n",
              "      <td>2</td>\n",
              "      <td>0</td>\n",
              "      <td>1</td>\n",
              "      <td>0</td>\n",
              "      <td>75</td>\n",
              "      <td>4</td>\n",
              "      <td>0.053333</td>\n",
              "      <td>77</td>\n",
              "      <td>2</td>\n",
              "      <td>0</td>\n",
              "      <td>12400</td>\n",
              "      <td>0.0</td>\n",
              "      <td>23</td>\n",
              "      <td>728</td>\n",
              "      <td>AA</td>\n",
              "      <td>0</td>\n",
              "    </tr>\n",
              "    <tr>\n",
              "      <th>1</th>\n",
              "      <td>2</td>\n",
              "      <td>Roshelle</td>\n",
              "      <td>Arnoult</td>\n",
              "      <td>rarnoult1@bigcartel.com</td>\n",
              "      <td>Female</td>\n",
              "      <td>130.18.85.204</td>\n",
              "      <td>37</td>\n",
              "      <td>14</td>\n",
              "      <td>101907</td>\n",
              "      <td>Nairobi</td>\n",
              "      <td>Divorced</td>\n",
              "      <td>101922</td>\n",
              "      <td>Rent</td>\n",
              "      <td>6</td>\n",
              "      <td>22</td>\n",
              "      <td>5</td>\n",
              "      <td>0</td>\n",
              "      <td>0</td>\n",
              "      <td>1</td>\n",
              "      <td>0</td>\n",
              "      <td>15</td>\n",
              "      <td>7</td>\n",
              "      <td>0.466667</td>\n",
              "      <td>20</td>\n",
              "      <td>2</td>\n",
              "      <td>2</td>\n",
              "      <td>15300</td>\n",
              "      <td>4590.0</td>\n",
              "      <td>23</td>\n",
              "      <td>428</td>\n",
              "      <td>GG</td>\n",
              "      <td>1</td>\n",
              "    </tr>\n",
              "    <tr>\n",
              "      <th>2</th>\n",
              "      <td>3</td>\n",
              "      <td>Barbey</td>\n",
              "      <td>Duffield</td>\n",
              "      <td>bduffield2@bing.com</td>\n",
              "      <td>Female</td>\n",
              "      <td>91.127.97.73</td>\n",
              "      <td>39</td>\n",
              "      <td>14</td>\n",
              "      <td>97331</td>\n",
              "      <td>Nairobi</td>\n",
              "      <td>Divorced</td>\n",
              "      <td>112457</td>\n",
              "      <td>Mortgage</td>\n",
              "      <td>11</td>\n",
              "      <td>36</td>\n",
              "      <td>4</td>\n",
              "      <td>0</td>\n",
              "      <td>1</td>\n",
              "      <td>1</td>\n",
              "      <td>0</td>\n",
              "      <td>25</td>\n",
              "      <td>11</td>\n",
              "      <td>0.440000</td>\n",
              "      <td>33</td>\n",
              "      <td>3</td>\n",
              "      <td>0</td>\n",
              "      <td>14600</td>\n",
              "      <td>0.0</td>\n",
              "      <td>10</td>\n",
              "      <td>630</td>\n",
              "      <td>DD</td>\n",
              "      <td>0</td>\n",
              "    </tr>\n",
              "    <tr>\n",
              "      <th>3</th>\n",
              "      <td>4</td>\n",
              "      <td>Vivianne</td>\n",
              "      <td>Gibbin</td>\n",
              "      <td>vgibbin3@g.co</td>\n",
              "      <td>Female</td>\n",
              "      <td>78.76.67.146</td>\n",
              "      <td>38</td>\n",
              "      <td>11</td>\n",
              "      <td>106189</td>\n",
              "      <td>Nairobi</td>\n",
              "      <td>Divorced</td>\n",
              "      <td>108758</td>\n",
              "      <td>Rent</td>\n",
              "      <td>10</td>\n",
              "      <td>32</td>\n",
              "      <td>4</td>\n",
              "      <td>0</td>\n",
              "      <td>0</td>\n",
              "      <td>0</td>\n",
              "      <td>0</td>\n",
              "      <td>22</td>\n",
              "      <td>10</td>\n",
              "      <td>0.454545</td>\n",
              "      <td>30</td>\n",
              "      <td>2</td>\n",
              "      <td>2</td>\n",
              "      <td>21200</td>\n",
              "      <td>6360.0</td>\n",
              "      <td>27</td>\n",
              "      <td>504</td>\n",
              "      <td>FF</td>\n",
              "      <td>0</td>\n",
              "    </tr>\n",
              "    <tr>\n",
              "      <th>4</th>\n",
              "      <td>5</td>\n",
              "      <td>Huntlee</td>\n",
              "      <td>Seman</td>\n",
              "      <td>hseman4@sun.com</td>\n",
              "      <td>Male</td>\n",
              "      <td>165.136.97.253</td>\n",
              "      <td>25</td>\n",
              "      <td>2</td>\n",
              "      <td>55705</td>\n",
              "      <td>Central</td>\n",
              "      <td>Single</td>\n",
              "      <td>3793</td>\n",
              "      <td>Rent</td>\n",
              "      <td>1</td>\n",
              "      <td>1</td>\n",
              "      <td>1</td>\n",
              "      <td>0</td>\n",
              "      <td>0</td>\n",
              "      <td>0</td>\n",
              "      <td>1</td>\n",
              "      <td>1</td>\n",
              "      <td>0</td>\n",
              "      <td>0.000000</td>\n",
              "      <td>0</td>\n",
              "      <td>1</td>\n",
              "      <td>1</td>\n",
              "      <td>16700</td>\n",
              "      <td>11690.0</td>\n",
              "      <td>2</td>\n",
              "      <td>592</td>\n",
              "      <td>EE</td>\n",
              "      <td>0</td>\n",
              "    </tr>\n",
              "  </tbody>\n",
              "</table>\n",
              "</div>"
            ],
            "text/plain": [
              "   id first_name last_name  ... Score Grade Def\n",
              "0   1   Germayne    Doblin  ...   728    AA   0\n",
              "1   2   Roshelle   Arnoult  ...   428    GG   1\n",
              "2   3     Barbey  Duffield  ...   630    DD   0\n",
              "3   4   Vivianne    Gibbin  ...   504    FF   0\n",
              "4   5    Huntlee     Seman  ...   592    EE   0\n",
              "\n",
              "[5 rows x 32 columns]"
            ]
          },
          "metadata": {},
          "execution_count": 17
        }
      ]
    },
    {
      "cell_type": "code",
      "metadata": {
        "id": "S4LJrB7ea_Kr"
      },
      "source": [
        "data=df.drop(['id', 'first_name', 'last_name', 'email','ip_address','Grade','Unnamed: 22'],1)"
      ],
      "execution_count": 18,
      "outputs": []
    },
    {
      "cell_type": "code",
      "metadata": {
        "id": "VuSmy_YRRwZm"
      },
      "source": [
        "data.columns=data.columns.str.replace (\" \", \"_\")"
      ],
      "execution_count": 41,
      "outputs": []
    },
    {
      "cell_type": "code",
      "metadata": {
        "id": "vKpRGoYYcOln"
      },
      "source": [
        "objList=data.select_dtypes(include='object')"
      ],
      "execution_count": 42,
      "outputs": []
    },
    {
      "cell_type": "code",
      "metadata": {
        "id": "95KIv8PJbXPq"
      },
      "source": [
        "from sklearn.preprocessing import LabelEncoder\n",
        "le = LabelEncoder()\n",
        "\n",
        "for feat in objList:\n",
        "    data[feat] = le.fit_transform(data[feat].astype(str))\n"
      ],
      "execution_count": 43,
      "outputs": []
    },
    {
      "cell_type": "code",
      "metadata": {
        "id": "D1OU3N7Qccr-"
      },
      "source": [
        "X=data.drop(['Score','Current_balance_Amt'],1)\n",
        "Y=data[['Score','Current_balance_Amt']]\n"
      ],
      "execution_count": 44,
      "outputs": []
    },
    {
      "cell_type": "code",
      "metadata": {
        "id": "eqzSEuspheT-"
      },
      "source": [
        "x_train, x_test, y_train, y_test = train_test_split(X, Y, test_size = 0.2, random_state=300)"
      ],
      "execution_count": 45,
      "outputs": []
    },
    {
      "cell_type": "code",
      "metadata": {
        "id": "3hp0S5L1ccsH"
      },
      "source": [
        "rforest=RandomForestRegressor(random_state=2,n_estimators=200,min_samples_split=3)\n",
        "rforest.fit(x_train,y_train)\n",
        "y_pred=rforest.predict(x_test)"
      ],
      "execution_count": 46,
      "outputs": []
    },
    {
      "cell_type": "code",
      "metadata": {
        "colab": {
          "base_uri": "https://localhost:8080/"
        },
        "id": "cJ7VzdgKccsH",
        "outputId": "d1dda95b-009a-42ff-dfef-4058fa49266c"
      },
      "source": [
        "MAE=mean_absolute_error(y_test,y_pred),\n",
        "RMSE=np.sqrt(mean_squared_error(y_test,y_pred)),\n",
        "R2_SCORE=r2_score(y_test, y_pred)\n",
        "print(MAE,RMSE,R2_SCORE)"
      ],
      "execution_count": 24,
      "outputs": [
        {
          "output_type": "stream",
          "name": "stdout",
          "text": [
            "(22.575137243731923,) (40.25189764325103,) 0.9047758574382967\n"
          ]
        }
      ]
    },
    {
      "cell_type": "code",
      "metadata": {
        "id": "z7X4AvMcccsH"
      },
      "source": [
        "pred=np.int_(rforest.predict(data.drop(['Score','Current_balance_Amt'],axis=1)))"
      ],
      "execution_count": 25,
      "outputs": []
    },
    {
      "cell_type": "code",
      "metadata": {
        "colab": {
          "base_uri": "https://localhost:8080/",
          "height": 675
        },
        "id": "yY2rNVIcesa2",
        "outputId": "7fa33e16-494f-4742-fed0-a0ac47a4c6a2"
      },
      "source": [
        "pred=pd.DataFrame(pred, columns=['Score_pred','Current_balance_Amt_pred'])\n",
        "pred['Score']=data['Score']\n",
        "pred['Current_balance_Amt']=data['Current_balance_Amt']\n",
        "pred.head(20)"
      ],
      "execution_count": 26,
      "outputs": [
        {
          "output_type": "execute_result",
          "data": {
            "text/html": [
              "<div>\n",
              "<style scoped>\n",
              "    .dataframe tbody tr th:only-of-type {\n",
              "        vertical-align: middle;\n",
              "    }\n",
              "\n",
              "    .dataframe tbody tr th {\n",
              "        vertical-align: top;\n",
              "    }\n",
              "\n",
              "    .dataframe thead th {\n",
              "        text-align: right;\n",
              "    }\n",
              "</style>\n",
              "<table border=\"1\" class=\"dataframe\">\n",
              "  <thead>\n",
              "    <tr style=\"text-align: right;\">\n",
              "      <th></th>\n",
              "      <th>Score_pred</th>\n",
              "      <th>Current_balance_Amt_pred</th>\n",
              "      <th>Score</th>\n",
              "      <th>Current_balance_Amt</th>\n",
              "    </tr>\n",
              "  </thead>\n",
              "  <tbody>\n",
              "    <tr>\n",
              "      <th>0</th>\n",
              "      <td>720</td>\n",
              "      <td>12400</td>\n",
              "      <td>728</td>\n",
              "      <td>12400</td>\n",
              "    </tr>\n",
              "    <tr>\n",
              "      <th>1</th>\n",
              "      <td>446</td>\n",
              "      <td>15299</td>\n",
              "      <td>428</td>\n",
              "      <td>15300</td>\n",
              "    </tr>\n",
              "    <tr>\n",
              "      <th>2</th>\n",
              "      <td>622</td>\n",
              "      <td>14594</td>\n",
              "      <td>630</td>\n",
              "      <td>14600</td>\n",
              "    </tr>\n",
              "    <tr>\n",
              "      <th>3</th>\n",
              "      <td>559</td>\n",
              "      <td>21198</td>\n",
              "      <td>504</td>\n",
              "      <td>21200</td>\n",
              "    </tr>\n",
              "    <tr>\n",
              "      <th>4</th>\n",
              "      <td>562</td>\n",
              "      <td>16701</td>\n",
              "      <td>592</td>\n",
              "      <td>16700</td>\n",
              "    </tr>\n",
              "    <tr>\n",
              "      <th>5</th>\n",
              "      <td>667</td>\n",
              "      <td>13600</td>\n",
              "      <td>656</td>\n",
              "      <td>13600</td>\n",
              "    </tr>\n",
              "    <tr>\n",
              "      <th>6</th>\n",
              "      <td>712</td>\n",
              "      <td>14700</td>\n",
              "      <td>750</td>\n",
              "      <td>14700</td>\n",
              "    </tr>\n",
              "    <tr>\n",
              "      <th>7</th>\n",
              "      <td>646</td>\n",
              "      <td>19699</td>\n",
              "      <td>661</td>\n",
              "      <td>19700</td>\n",
              "    </tr>\n",
              "    <tr>\n",
              "      <th>8</th>\n",
              "      <td>659</td>\n",
              "      <td>20600</td>\n",
              "      <td>658</td>\n",
              "      <td>20600</td>\n",
              "    </tr>\n",
              "    <tr>\n",
              "      <th>9</th>\n",
              "      <td>386</td>\n",
              "      <td>16299</td>\n",
              "      <td>391</td>\n",
              "      <td>16300</td>\n",
              "    </tr>\n",
              "    <tr>\n",
              "      <th>10</th>\n",
              "      <td>594</td>\n",
              "      <td>18100</td>\n",
              "      <td>581</td>\n",
              "      <td>18100</td>\n",
              "    </tr>\n",
              "    <tr>\n",
              "      <th>11</th>\n",
              "      <td>362</td>\n",
              "      <td>15700</td>\n",
              "      <td>352</td>\n",
              "      <td>15700</td>\n",
              "    </tr>\n",
              "    <tr>\n",
              "      <th>12</th>\n",
              "      <td>464</td>\n",
              "      <td>21186</td>\n",
              "      <td>489</td>\n",
              "      <td>21200</td>\n",
              "    </tr>\n",
              "    <tr>\n",
              "      <th>13</th>\n",
              "      <td>384</td>\n",
              "      <td>28804</td>\n",
              "      <td>333</td>\n",
              "      <td>28800</td>\n",
              "    </tr>\n",
              "    <tr>\n",
              "      <th>14</th>\n",
              "      <td>652</td>\n",
              "      <td>15600</td>\n",
              "      <td>636</td>\n",
              "      <td>15600</td>\n",
              "    </tr>\n",
              "    <tr>\n",
              "      <th>15</th>\n",
              "      <td>626</td>\n",
              "      <td>13296</td>\n",
              "      <td>613</td>\n",
              "      <td>13300</td>\n",
              "    </tr>\n",
              "    <tr>\n",
              "      <th>16</th>\n",
              "      <td>419</td>\n",
              "      <td>27601</td>\n",
              "      <td>396</td>\n",
              "      <td>27600</td>\n",
              "    </tr>\n",
              "    <tr>\n",
              "      <th>17</th>\n",
              "      <td>670</td>\n",
              "      <td>22300</td>\n",
              "      <td>685</td>\n",
              "      <td>22300</td>\n",
              "    </tr>\n",
              "    <tr>\n",
              "      <th>18</th>\n",
              "      <td>583</td>\n",
              "      <td>17400</td>\n",
              "      <td>521</td>\n",
              "      <td>17400</td>\n",
              "    </tr>\n",
              "    <tr>\n",
              "      <th>19</th>\n",
              "      <td>624</td>\n",
              "      <td>13600</td>\n",
              "      <td>612</td>\n",
              "      <td>13600</td>\n",
              "    </tr>\n",
              "  </tbody>\n",
              "</table>\n",
              "</div>"
            ],
            "text/plain": [
              "    Score_pred  Current_balance_Amt_pred  Score  Current_balance_Amt\n",
              "0          720                     12400    728                12400\n",
              "1          446                     15299    428                15300\n",
              "2          622                     14594    630                14600\n",
              "3          559                     21198    504                21200\n",
              "4          562                     16701    592                16700\n",
              "5          667                     13600    656                13600\n",
              "6          712                     14700    750                14700\n",
              "7          646                     19699    661                19700\n",
              "8          659                     20600    658                20600\n",
              "9          386                     16299    391                16300\n",
              "10         594                     18100    581                18100\n",
              "11         362                     15700    352                15700\n",
              "12         464                     21186    489                21200\n",
              "13         384                     28804    333                28800\n",
              "14         652                     15600    636                15600\n",
              "15         626                     13296    613                13300\n",
              "16         419                     27601    396                27600\n",
              "17         670                     22300    685                22300\n",
              "18         583                     17400    521                17400\n",
              "19         624                     13600    612                13600"
            ]
          },
          "metadata": {},
          "execution_count": 26
        }
      ]
    },
    {
      "cell_type": "code",
      "metadata": {
        "colab": {
          "base_uri": "https://localhost:8080/"
        },
        "id": "B12WnSuooPsY",
        "outputId": "ca66122f-01ca-431e-9e4e-13a0a90659c3"
      },
      "source": [
        "pred.shape"
      ],
      "execution_count": null,
      "outputs": [
        {
          "output_type": "execute_result",
          "data": {
            "text/plain": [
              "(10000, 4)"
            ]
          },
          "metadata": {},
          "execution_count": 36
        }
      ]
    },
    {
      "cell_type": "code",
      "metadata": {
        "id": "v4CI3vSuccsI"
      },
      "source": [
        "# Import pickle Package\n",
        "\n",
        "import pickle"
      ],
      "execution_count": 27,
      "outputs": []
    },
    {
      "cell_type": "code",
      "metadata": {
        "id": "UzO0WUkEccsI"
      },
      "source": [
        "# Save the Modle to file in the current working directory\n",
        "Pkl_Filename = \"Pickle_RL_Model.pkl\"  \n",
        "\n",
        "with open(Pkl_Filename, 'wb') as file:  \n",
        "    pickle.dump(rforest, file)"
      ],
      "execution_count": 28,
      "outputs": []
    },
    {
      "cell_type": "code",
      "metadata": {
        "colab": {
          "base_uri": "https://localhost:8080/"
        },
        "id": "KIFe9OI1ccsI",
        "outputId": "f9b73991-9045-49e4-cc08-3146edbf9d88"
      },
      "source": [
        "# Load the Model back from file\n",
        "with open(Pkl_Filename, 'rb') as file:  \n",
        "    Pickled_RF_Model = pickle.load(file)\n",
        "\n",
        "Pickled_RF_Model"
      ],
      "execution_count": 29,
      "outputs": [
        {
          "output_type": "execute_result",
          "data": {
            "text/plain": [
              "RandomForestRegressor(bootstrap=True, ccp_alpha=0.0, criterion='mse',\n",
              "                      max_depth=None, max_features='auto', max_leaf_nodes=None,\n",
              "                      max_samples=None, min_impurity_decrease=0.0,\n",
              "                      min_impurity_split=None, min_samples_leaf=1,\n",
              "                      min_samples_split=3, min_weight_fraction_leaf=0.0,\n",
              "                      n_estimators=200, n_jobs=None, oob_score=False,\n",
              "                      random_state=2, verbose=0, warm_start=False)"
            ]
          },
          "metadata": {},
          "execution_count": 29
        }
      ]
    },
    {
      "cell_type": "code",
      "metadata": {
        "colab": {
          "base_uri": "https://localhost:8080/"
        },
        "id": "HnFHbXzoccsJ",
        "outputId": "a402153a-3c27-4939-93a6-57eb67f6f474"
      },
      "source": [
        "x_train.info()"
      ],
      "execution_count": 47,
      "outputs": [
        {
          "output_type": "stream",
          "name": "stdout",
          "text": [
            "<class 'pandas.core.frame.DataFrame'>\n",
            "Int64Index: 8000 entries, 2857 to 1233\n",
            "Data columns (total 23 columns):\n",
            " #   Column              Non-Null Count  Dtype  \n",
            "---  ------              --------------  -----  \n",
            " 0   gender              8000 non-null   int64  \n",
            " 1   Age                 8000 non-null   int64  \n",
            " 2   Years_in_job        8000 non-null   int64  \n",
            " 3   Income              8000 non-null   int64  \n",
            " 4   Province            8000 non-null   int64  \n",
            " 5   Marital_status      8000 non-null   int64  \n",
            " 6   Savings             8000 non-null   int64  \n",
            " 7   Home_ownership      8000 non-null   int64  \n",
            " 8   Credit_history      8000 non-null   int64  \n",
            " 9   Number_of_accs      8000 non-null   int64  \n",
            " 10  Open_accounts       8000 non-null   int64  \n",
            " 11  Credit_cards        8000 non-null   int64  \n",
            " 12  Home_loan           8000 non-null   int64  \n",
            " 13  Overdraft           8000 non-null   int64  \n",
            " 14  Student_Loan        8000 non-null   int64  \n",
            " 15  Perfoming_Accs      8000 non-null   int64  \n",
            " 16  Non_perfoming_Accs  8000 non-null   int64  \n",
            " 17  Closed_Accs         8000 non-null   int64  \n",
            " 18  Open_Accounts       8000 non-null   int64  \n",
            " 19  Current_In_Arrears  8000 non-null   int64  \n",
            " 20  Past_due_Amt        8000 non-null   float64\n",
            " 21  No_of_enquiries     8000 non-null   int64  \n",
            " 22  Def                 8000 non-null   int64  \n",
            "dtypes: float64(1), int64(22)\n",
            "memory usage: 1.5 MB\n"
          ]
        }
      ]
    },
    {
      "cell_type": "markdown",
      "metadata": {
        "id": "56VFnARIMhti"
      },
      "source": [
        "#### Encoded values (Values before Categorical Encoding) "
      ]
    },
    {
      "cell_type": "code",
      "metadata": {
        "id": "EIGGzOy_ZEhC",
        "colab": {
          "base_uri": "https://localhost:8080/"
        },
        "outputId": "ca926fa8-9d9a-46a9-a680-46e093417976"
      },
      "source": [
        "objList.gender.value_counts()"
      ],
      "execution_count": 32,
      "outputs": [
        {
          "output_type": "execute_result",
          "data": {
            "text/plain": [
              "Female    5003\n",
              "Male      4997\n",
              "Name: gender, dtype: int64"
            ]
          },
          "metadata": {},
          "execution_count": 32
        }
      ]
    },
    {
      "cell_type": "code",
      "metadata": {
        "colab": {
          "base_uri": "https://localhost:8080/"
        },
        "id": "Hh0gsnIINHvC",
        "outputId": "e91ed7d8-d731-4f7c-d9a6-4e11e2df0bb1"
      },
      "source": [
        "data.gender.value_counts()"
      ],
      "execution_count": 37,
      "outputs": [
        {
          "output_type": "execute_result",
          "data": {
            "text/plain": [
              "0    5003\n",
              "1    4997\n",
              "Name: gender, dtype: int64"
            ]
          },
          "metadata": {},
          "execution_count": 37
        }
      ]
    },
    {
      "cell_type": "code",
      "metadata": {
        "colab": {
          "base_uri": "https://localhost:8080/"
        },
        "id": "dHJVEXAyMLGN",
        "outputId": "af73df35-2716-4d19-b356-1607cfaac677"
      },
      "source": [
        "objList.Province.value_counts()"
      ],
      "execution_count": 34,
      "outputs": [
        {
          "output_type": "execute_result",
          "data": {
            "text/plain": [
              "Nairobi            6791\n",
              "Northe Eastern      558\n",
              "Nyanza              558\n",
              "Eastern             534\n",
              "Western             529\n",
              "Central             528\n",
              "Rift Valley         502\n",
              "Name: Province, dtype: int64"
            ]
          },
          "metadata": {},
          "execution_count": 34
        }
      ]
    },
    {
      "cell_type": "code",
      "metadata": {
        "colab": {
          "base_uri": "https://localhost:8080/"
        },
        "id": "7Hd5ZAMONMTL",
        "outputId": "6c1a7971-ac4c-481a-805f-90222fb71eba"
      },
      "source": [
        "data.Province.value_counts()"
      ],
      "execution_count": 38,
      "outputs": [
        {
          "output_type": "execute_result",
          "data": {
            "text/plain": [
              "2    6791\n",
              "4     558\n",
              "3     558\n",
              "1     534\n",
              "6     529\n",
              "0     528\n",
              "5     502\n",
              "Name: Province, dtype: int64"
            ]
          },
          "metadata": {},
          "execution_count": 38
        }
      ]
    },
    {
      "cell_type": "code",
      "metadata": {
        "colab": {
          "base_uri": "https://localhost:8080/"
        },
        "id": "BA3Nk4ktMRmv",
        "outputId": "aa5ef7a8-7895-44ad-fcb0-7250b74966fe"
      },
      "source": [
        "objList.Marital_status.value_counts()"
      ],
      "execution_count": 35,
      "outputs": [
        {
          "output_type": "execute_result",
          "data": {
            "text/plain": [
              "Single      4707\n",
              "Divorced    2660\n",
              "Married     2633\n",
              "Name: Marital_status, dtype: int64"
            ]
          },
          "metadata": {},
          "execution_count": 35
        }
      ]
    },
    {
      "cell_type": "code",
      "metadata": {
        "colab": {
          "base_uri": "https://localhost:8080/"
        },
        "id": "J8cAyI40NQWW",
        "outputId": "34d4b9f9-5cd8-42b3-88ca-e08f440e7def"
      },
      "source": [
        "data.Marital_status.value_counts()"
      ],
      "execution_count": 39,
      "outputs": [
        {
          "output_type": "execute_result",
          "data": {
            "text/plain": [
              "2    4707\n",
              "0    2660\n",
              "1    2633\n",
              "Name: Marital_status, dtype: int64"
            ]
          },
          "metadata": {},
          "execution_count": 39
        }
      ]
    },
    {
      "cell_type": "code",
      "metadata": {
        "colab": {
          "base_uri": "https://localhost:8080/"
        },
        "id": "ayhDj9phMaAK",
        "outputId": "5be9be73-6e4d-417f-960f-ba0aeb1fa700"
      },
      "source": [
        "objList.Home_ownership.value_counts()"
      ],
      "execution_count": 36,
      "outputs": [
        {
          "output_type": "execute_result",
          "data": {
            "text/plain": [
              "Rent        5251\n",
              "Own Home    4396\n",
              "Mortgage     353\n",
              "Name: Home_ownership, dtype: int64"
            ]
          },
          "metadata": {},
          "execution_count": 36
        }
      ]
    },
    {
      "cell_type": "code",
      "metadata": {
        "colab": {
          "base_uri": "https://localhost:8080/"
        },
        "id": "nJyUCVgxMf4Y",
        "outputId": "9b3870ba-e36a-47e2-c25f-dcc45129cfaa"
      },
      "source": [
        "data.Home_ownership.value_counts()"
      ],
      "execution_count": 40,
      "outputs": [
        {
          "output_type": "execute_result",
          "data": {
            "text/plain": [
              "2    5251\n",
              "1    4396\n",
              "0     353\n",
              "Name: Home_ownership, dtype: int64"
            ]
          },
          "metadata": {},
          "execution_count": 40
        }
      ]
    },
    {
      "cell_type": "code",
      "metadata": {
        "id": "H4PEnJJzNUH0"
      },
      "source": [
        ""
      ],
      "execution_count": null,
      "outputs": []
    }
  ]
}