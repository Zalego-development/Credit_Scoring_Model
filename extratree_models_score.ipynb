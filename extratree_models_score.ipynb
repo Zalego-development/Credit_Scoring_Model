{
  "nbformat": 4,
  "nbformat_minor": 0,
  "metadata": {
    "colab": {
      "name": "extratree_models_score.ipynb",
      "provenance": [],
      "collapsed_sections": [],
      "toc_visible": true
    },
    "kernelspec": {
      "display_name": "Python 3",
      "language": "python",
      "name": "python3"
    },
    "language_info": {
      "codemirror_mode": {
        "name": "ipython",
        "version": 3
      },
      "file_extension": ".py",
      "mimetype": "text/x-python",
      "name": "python",
      "nbconvert_exporter": "python",
      "pygments_lexer": "ipython3",
      "version": "3.7.4"
    }
  },
  "cells": [
    {
      "cell_type": "markdown",
      "metadata": {
        "id": "fxagHsWFccrj"
      },
      "source": [
        "## 1. Loading Data and Packages"
      ]
    },
    {
      "cell_type": "code",
      "metadata": {
        "id": "J8fkh90Lccrj"
      },
      "source": [
        "import pandas as pd\n",
        "import numpy as np\n",
        "import seaborn as sns\n",
        "import matplotlib\n",
        "import matplotlib.pyplot as plt\n",
        "import warnings\n",
        "from sklearn.ensemble import ExtraTreesRegressor\n",
        "from sklearn.metrics import accuracy_score,mean_squared_error,r2_score,mean_absolute_error\n",
        "from math import sqrt\n",
        "warnings.filterwarnings('ignore')\n"
      ],
      "execution_count": 1,
      "outputs": []
    },
    {
      "cell_type": "code",
      "metadata": {
        "colab": {
          "base_uri": "https://localhost:8080/"
        },
        "id": "mI8sxIUeVPan",
        "outputId": "f9758280-7baf-417b-a75d-25df6a1b94fc"
      },
      "source": [
        "from google import colab\n",
        "colab.drive.mount('/content/gdrive')"
      ],
      "execution_count": 2,
      "outputs": [
        {
          "output_type": "stream",
          "name": "stdout",
          "text": [
            "Mounted at /content/gdrive\n"
          ]
        }
      ]
    },
    {
      "cell_type": "code",
      "metadata": {
        "id": "ZucnsdJSccrk"
      },
      "source": [
        "# Load train and Test set\n",
        "import os \n",
        "path = '/content/gdrive/My Drive/colab/credit_score_zalda'\n"
      ],
      "execution_count": 3,
      "outputs": []
    },
    {
      "cell_type": "code",
      "metadata": {
        "id": "cG9tZ53rccrl"
      },
      "source": [
        "data = pd.read_csv(path+'/loan_data.csv')"
      ],
      "execution_count": 86,
      "outputs": []
    },
    {
      "cell_type": "code",
      "metadata": {
        "id": "ZRW7uVwkCheH"
      },
      "source": [
        "r = 0.13\n",
        "interestRate=r/data['Number_of_installments(months)']\n",
        "data['loan_limit']            = abs(np.pv(interestRate/data['Number_of_installments(months)'],\n",
        "\n",
        "                                data['Number_of_installments(months)']*1,\n",
        "\n",
        "                                data['monthly_installments'],\n",
        "\n",
        "                                when='end').round(0)\n",
        ")"
      ],
      "execution_count": 54,
      "outputs": []
    },
    {
      "cell_type": "code",
      "metadata": {
        "colab": {
          "base_uri": "https://localhost:8080/",
          "height": 243
        },
        "id": "C3ez2Mn2TqLd",
        "outputId": "264fb813-5f3f-4b7e-aae4-f6d3e91390f2"
      },
      "source": [
        "data.head()"
      ],
      "execution_count": 55,
      "outputs": [
        {
          "output_type": "execute_result",
          "data": {
            "text/html": [
              "<div>\n",
              "<style scoped>\n",
              "    .dataframe tbody tr th:only-of-type {\n",
              "        vertical-align: middle;\n",
              "    }\n",
              "\n",
              "    .dataframe tbody tr th {\n",
              "        vertical-align: top;\n",
              "    }\n",
              "\n",
              "    .dataframe thead th {\n",
              "        text-align: right;\n",
              "    }\n",
              "</style>\n",
              "<table border=\"1\" class=\"dataframe\">\n",
              "  <thead>\n",
              "    <tr style=\"text-align: right;\">\n",
              "      <th></th>\n",
              "      <th>gender</th>\n",
              "      <th>Age</th>\n",
              "      <th>Years_in_job</th>\n",
              "      <th>Income</th>\n",
              "      <th>Province</th>\n",
              "      <th>Savings</th>\n",
              "      <th>Home_ownership</th>\n",
              "      <th>Credit_history</th>\n",
              "      <th>Number_of_accs</th>\n",
              "      <th>Credit_cards</th>\n",
              "      <th>Home_loan</th>\n",
              "      <th>Overdraft</th>\n",
              "      <th>Student_Loan</th>\n",
              "      <th>Non_perfoming_Accs</th>\n",
              "      <th>Open Accounts</th>\n",
              "      <th>Current_In_Arrears</th>\n",
              "      <th>Current_balance_Amt</th>\n",
              "      <th>Past_due_Amt</th>\n",
              "      <th>No_of_enquiries</th>\n",
              "      <th>Score</th>\n",
              "      <th>Def</th>\n",
              "      <th>monthly_installments</th>\n",
              "      <th>Number_of_installments(months)</th>\n",
              "      <th>loan_limit</th>\n",
              "    </tr>\n",
              "  </thead>\n",
              "  <tbody>\n",
              "    <tr>\n",
              "      <th>0</th>\n",
              "      <td>Male</td>\n",
              "      <td>48</td>\n",
              "      <td>23</td>\n",
              "      <td>123970</td>\n",
              "      <td>Nairobi</td>\n",
              "      <td>264110</td>\n",
              "      <td>Own Home</td>\n",
              "      <td>18</td>\n",
              "      <td>79</td>\n",
              "      <td>2</td>\n",
              "      <td>0</td>\n",
              "      <td>1</td>\n",
              "      <td>0</td>\n",
              "      <td>4</td>\n",
              "      <td>2</td>\n",
              "      <td>0</td>\n",
              "      <td>12400</td>\n",
              "      <td>0.0</td>\n",
              "      <td>23</td>\n",
              "      <td>728</td>\n",
              "      <td>0</td>\n",
              "      <td>37191.0</td>\n",
              "      <td>5</td>\n",
              "      <td>183089.0</td>\n",
              "    </tr>\n",
              "    <tr>\n",
              "      <th>1</th>\n",
              "      <td>Female</td>\n",
              "      <td>37</td>\n",
              "      <td>14</td>\n",
              "      <td>101907</td>\n",
              "      <td>Nairobi</td>\n",
              "      <td>101922</td>\n",
              "      <td>Rent</td>\n",
              "      <td>6</td>\n",
              "      <td>22</td>\n",
              "      <td>0</td>\n",
              "      <td>0</td>\n",
              "      <td>1</td>\n",
              "      <td>0</td>\n",
              "      <td>7</td>\n",
              "      <td>2</td>\n",
              "      <td>2</td>\n",
              "      <td>15300</td>\n",
              "      <td>4590.0</td>\n",
              "      <td>23</td>\n",
              "      <td>428</td>\n",
              "      <td>1</td>\n",
              "      <td>30572.1</td>\n",
              "      <td>8</td>\n",
              "      <td>242356.0</td>\n",
              "    </tr>\n",
              "    <tr>\n",
              "      <th>2</th>\n",
              "      <td>Female</td>\n",
              "      <td>39</td>\n",
              "      <td>14</td>\n",
              "      <td>97331</td>\n",
              "      <td>Nairobi</td>\n",
              "      <td>112457</td>\n",
              "      <td>Mortgage</td>\n",
              "      <td>11</td>\n",
              "      <td>36</td>\n",
              "      <td>0</td>\n",
              "      <td>1</td>\n",
              "      <td>1</td>\n",
              "      <td>0</td>\n",
              "      <td>11</td>\n",
              "      <td>3</td>\n",
              "      <td>0</td>\n",
              "      <td>14600</td>\n",
              "      <td>0.0</td>\n",
              "      <td>10</td>\n",
              "      <td>630</td>\n",
              "      <td>0</td>\n",
              "      <td>29199.3</td>\n",
              "      <td>3</td>\n",
              "      <td>85127.0</td>\n",
              "    </tr>\n",
              "    <tr>\n",
              "      <th>3</th>\n",
              "      <td>Female</td>\n",
              "      <td>38</td>\n",
              "      <td>11</td>\n",
              "      <td>106189</td>\n",
              "      <td>Nairobi</td>\n",
              "      <td>108758</td>\n",
              "      <td>Rent</td>\n",
              "      <td>10</td>\n",
              "      <td>32</td>\n",
              "      <td>0</td>\n",
              "      <td>0</td>\n",
              "      <td>0</td>\n",
              "      <td>0</td>\n",
              "      <td>10</td>\n",
              "      <td>2</td>\n",
              "      <td>2</td>\n",
              "      <td>21200</td>\n",
              "      <td>6360.0</td>\n",
              "      <td>27</td>\n",
              "      <td>504</td>\n",
              "      <td>0</td>\n",
              "      <td>31856.7</td>\n",
              "      <td>1</td>\n",
              "      <td>28192.0</td>\n",
              "    </tr>\n",
              "    <tr>\n",
              "      <th>4</th>\n",
              "      <td>Male</td>\n",
              "      <td>25</td>\n",
              "      <td>2</td>\n",
              "      <td>55705</td>\n",
              "      <td>Central</td>\n",
              "      <td>3793</td>\n",
              "      <td>Rent</td>\n",
              "      <td>1</td>\n",
              "      <td>1</td>\n",
              "      <td>0</td>\n",
              "      <td>0</td>\n",
              "      <td>0</td>\n",
              "      <td>1</td>\n",
              "      <td>0</td>\n",
              "      <td>1</td>\n",
              "      <td>1</td>\n",
              "      <td>16700</td>\n",
              "      <td>11690.0</td>\n",
              "      <td>2</td>\n",
              "      <td>592</td>\n",
              "      <td>0</td>\n",
              "      <td>16711.5</td>\n",
              "      <td>5</td>\n",
              "      <td>82270.0</td>\n",
              "    </tr>\n",
              "  </tbody>\n",
              "</table>\n",
              "</div>"
            ],
            "text/plain": [
              "   gender  Age  ...  Number_of_installments(months)  loan_limit\n",
              "0    Male   48  ...                               5    183089.0\n",
              "1  Female   37  ...                               8    242356.0\n",
              "2  Female   39  ...                               3     85127.0\n",
              "3  Female   38  ...                               1     28192.0\n",
              "4    Male   25  ...                               5     82270.0\n",
              "\n",
              "[5 rows x 24 columns]"
            ]
          },
          "metadata": {},
          "execution_count": 55
        }
      ]
    },
    {
      "cell_type": "code",
      "metadata": {
        "id": "vKpRGoYYcOln"
      },
      "source": [
        "objList=data.select_dtypes(include='object')"
      ],
      "execution_count": 56,
      "outputs": []
    },
    {
      "cell_type": "code",
      "metadata": {
        "colab": {
          "base_uri": "https://localhost:8080/"
        },
        "id": "95KIv8PJbXPq",
        "outputId": "1353b767-3202-4a11-9a3c-cd2a93854d38"
      },
      "source": [
        "from sklearn.preprocessing import LabelEncoder\n",
        "le = LabelEncoder()\n",
        "\n",
        "for feat in objList:\n",
        "    data[feat] = le.fit_transform(data[feat].astype(str))\n",
        "\n",
        "print (data.info())"
      ],
      "execution_count": 57,
      "outputs": [
        {
          "output_type": "stream",
          "name": "stdout",
          "text": [
            "<class 'pandas.core.frame.DataFrame'>\n",
            "RangeIndex: 10000 entries, 0 to 9999\n",
            "Data columns (total 24 columns):\n",
            " #   Column                          Non-Null Count  Dtype  \n",
            "---  ------                          --------------  -----  \n",
            " 0   gender                          10000 non-null  int64  \n",
            " 1   Age                             10000 non-null  int64  \n",
            " 2   Years_in_job                    10000 non-null  int64  \n",
            " 3   Income                          10000 non-null  int64  \n",
            " 4   Province                        10000 non-null  int64  \n",
            " 5   Savings                         10000 non-null  int64  \n",
            " 6   Home_ownership                  10000 non-null  int64  \n",
            " 7   Credit_history                  10000 non-null  int64  \n",
            " 8   Number_of_accs                  10000 non-null  int64  \n",
            " 9   Credit_cards                    10000 non-null  int64  \n",
            " 10  Home_loan                       10000 non-null  int64  \n",
            " 11  Overdraft                       10000 non-null  int64  \n",
            " 12  Student_Loan                    10000 non-null  int64  \n",
            " 13  Non_perfoming_Accs              10000 non-null  int64  \n",
            " 14  Open Accounts                   10000 non-null  int64  \n",
            " 15  Current_In_Arrears              10000 non-null  int64  \n",
            " 16  Current_balance_Amt             10000 non-null  int64  \n",
            " 17  Past_due_Amt                    10000 non-null  float64\n",
            " 18  No_of_enquiries                 10000 non-null  int64  \n",
            " 19  Score                           10000 non-null  int64  \n",
            " 20  Def                             10000 non-null  int64  \n",
            " 21  monthly_installments            10000 non-null  float64\n",
            " 22  Number_of_installments(months)  10000 non-null  int64  \n",
            " 23  loan_limit                      10000 non-null  float64\n",
            "dtypes: float64(3), int64(21)\n",
            "memory usage: 1.8 MB\n",
            "None\n"
          ]
        }
      ]
    },
    {
      "cell_type": "code",
      "metadata": {
        "id": "D1OU3N7Qccr-"
      },
      "source": [
        "X=data.drop(['Score','loan_limit'],1)\n",
        "Y=data[['Score','loan_limit']]\n"
      ],
      "execution_count": 63,
      "outputs": []
    },
    {
      "cell_type": "code",
      "metadata": {
        "colab": {
          "base_uri": "https://localhost:8080/"
        },
        "id": "YaPKPoF_is0D",
        "outputId": "37f5e930-13ed-4f9e-842e-b4c2d427eb07"
      },
      "source": [
        "X.shape, Y.shape"
      ],
      "execution_count": 64,
      "outputs": [
        {
          "output_type": "execute_result",
          "data": {
            "text/plain": [
              "((10000, 22), (10000, 2))"
            ]
          },
          "metadata": {},
          "execution_count": 64
        }
      ]
    },
    {
      "cell_type": "markdown",
      "metadata": {
        "id": "jxH4_iLiccr_"
      },
      "source": [
        "## 6. Modeling and Predictions"
      ]
    },
    {
      "cell_type": "code",
      "metadata": {
        "id": "zINz-Cc7i0KU"
      },
      "source": [
        "# !pip install catboost"
      ],
      "execution_count": 65,
      "outputs": []
    },
    {
      "cell_type": "code",
      "metadata": {
        "id": "eqzSEuspheT-"
      },
      "source": [
        "x_train, x_test, y_train, y_test = train_test_split(X, Y, test_size = 0.2, random_state=300)"
      ],
      "execution_count": 67,
      "outputs": []
    },
    {
      "cell_type": "code",
      "metadata": {
        "id": "3hp0S5L1ccsH"
      },
      "source": [
        "etree=ExtraTreesRegressor(random_state=2)\n",
        "etree.fit(x_train,y_train)\n",
        "y_pred=etree.predict(x_test)"
      ],
      "execution_count": 75,
      "outputs": []
    },
    {
      "cell_type": "code",
      "metadata": {
        "colab": {
          "base_uri": "https://localhost:8080/"
        },
        "id": "cJ7VzdgKccsH",
        "outputId": "519dce02-3768-4938-de38-9f9d5f988983"
      },
      "source": [
        "MAE=mean_absolute_error(y_test,y_pred),\n",
        "RMSE=np.sqrt(mean_squared_error(y_test,y_pred)),\n",
        "R2_SCORE=r2_score(y_test, y_pred)\n",
        "print(MAE,RMSE,R2_SCORE)"
      ],
      "execution_count": 76,
      "outputs": [
        {
          "output_type": "stream",
          "name": "stdout",
          "text": [
            "(83.1688300000001,) (145.51899492660797,) 0.8258674255659617\n"
          ]
        }
      ]
    },
    {
      "cell_type": "code",
      "metadata": {
        "id": "z7X4AvMcccsH"
      },
      "source": [
        "pred=np.int_(etree.predict(data.drop(['Score','loan_limit'],axis=1)))"
      ],
      "execution_count": 77,
      "outputs": []
    },
    {
      "cell_type": "code",
      "metadata": {
        "colab": {
          "base_uri": "https://localhost:8080/",
          "height": 675
        },
        "id": "yY2rNVIcesa2",
        "outputId": "ea406efe-3fc6-4e66-a9b1-809946530b46"
      },
      "source": [
        "pred=pd.DataFrame(pred, columns=['Score_pred','loan_limit_pred'])\n",
        "pred['Score']=data['Score']\n",
        "pred['loan_limit']=data['loan_limit']\n",
        "pred.head(20)"
      ],
      "execution_count": 78,
      "outputs": [
        {
          "output_type": "execute_result",
          "data": {
            "text/html": [
              "<div>\n",
              "<style scoped>\n",
              "    .dataframe tbody tr th:only-of-type {\n",
              "        vertical-align: middle;\n",
              "    }\n",
              "\n",
              "    .dataframe tbody tr th {\n",
              "        vertical-align: top;\n",
              "    }\n",
              "\n",
              "    .dataframe thead th {\n",
              "        text-align: right;\n",
              "    }\n",
              "</style>\n",
              "<table border=\"1\" class=\"dataframe\">\n",
              "  <thead>\n",
              "    <tr style=\"text-align: right;\">\n",
              "      <th></th>\n",
              "      <th>Score_pred</th>\n",
              "      <th>loan_limit_pred</th>\n",
              "      <th>Score</th>\n",
              "      <th>loan_limit</th>\n",
              "    </tr>\n",
              "  </thead>\n",
              "  <tbody>\n",
              "    <tr>\n",
              "      <th>0</th>\n",
              "      <td>728</td>\n",
              "      <td>183089</td>\n",
              "      <td>728</td>\n",
              "      <td>183089.0</td>\n",
              "    </tr>\n",
              "    <tr>\n",
              "      <th>1</th>\n",
              "      <td>428</td>\n",
              "      <td>242356</td>\n",
              "      <td>428</td>\n",
              "      <td>242356.0</td>\n",
              "    </tr>\n",
              "    <tr>\n",
              "      <th>2</th>\n",
              "      <td>630</td>\n",
              "      <td>85127</td>\n",
              "      <td>630</td>\n",
              "      <td>85127.0</td>\n",
              "    </tr>\n",
              "    <tr>\n",
              "      <th>3</th>\n",
              "      <td>504</td>\n",
              "      <td>28192</td>\n",
              "      <td>504</td>\n",
              "      <td>28192.0</td>\n",
              "    </tr>\n",
              "    <tr>\n",
              "      <th>4</th>\n",
              "      <td>509</td>\n",
              "      <td>82207</td>\n",
              "      <td>592</td>\n",
              "      <td>82270.0</td>\n",
              "    </tr>\n",
              "    <tr>\n",
              "      <th>5</th>\n",
              "      <td>656</td>\n",
              "      <td>77935</td>\n",
              "      <td>656</td>\n",
              "      <td>77935.0</td>\n",
              "    </tr>\n",
              "    <tr>\n",
              "      <th>6</th>\n",
              "      <td>677</td>\n",
              "      <td>305969</td>\n",
              "      <td>750</td>\n",
              "      <td>305974.0</td>\n",
              "    </tr>\n",
              "    <tr>\n",
              "      <th>7</th>\n",
              "      <td>661</td>\n",
              "      <td>154586</td>\n",
              "      <td>661</td>\n",
              "      <td>154586.0</td>\n",
              "    </tr>\n",
              "    <tr>\n",
              "      <th>8</th>\n",
              "      <td>658</td>\n",
              "      <td>121053</td>\n",
              "      <td>658</td>\n",
              "      <td>121053.0</td>\n",
              "    </tr>\n",
              "    <tr>\n",
              "      <th>9</th>\n",
              "      <td>479</td>\n",
              "      <td>21666</td>\n",
              "      <td>391</td>\n",
              "      <td>21670.0</td>\n",
              "    </tr>\n",
              "    <tr>\n",
              "      <th>10</th>\n",
              "      <td>581</td>\n",
              "      <td>322872</td>\n",
              "      <td>581</td>\n",
              "      <td>322872.0</td>\n",
              "    </tr>\n",
              "    <tr>\n",
              "      <th>11</th>\n",
              "      <td>352</td>\n",
              "      <td>29947</td>\n",
              "      <td>352</td>\n",
              "      <td>29947.0</td>\n",
              "    </tr>\n",
              "    <tr>\n",
              "      <th>12</th>\n",
              "      <td>489</td>\n",
              "      <td>156418</td>\n",
              "      <td>489</td>\n",
              "      <td>156418.0</td>\n",
              "    </tr>\n",
              "    <tr>\n",
              "      <th>13</th>\n",
              "      <td>333</td>\n",
              "      <td>54980</td>\n",
              "      <td>333</td>\n",
              "      <td>54980.0</td>\n",
              "    </tr>\n",
              "    <tr>\n",
              "      <th>14</th>\n",
              "      <td>636</td>\n",
              "      <td>185264</td>\n",
              "      <td>636</td>\n",
              "      <td>185264.0</td>\n",
              "    </tr>\n",
              "    <tr>\n",
              "      <th>15</th>\n",
              "      <td>613</td>\n",
              "      <td>235529</td>\n",
              "      <td>613</td>\n",
              "      <td>235529.0</td>\n",
              "    </tr>\n",
              "    <tr>\n",
              "      <th>16</th>\n",
              "      <td>396</td>\n",
              "      <td>24436</td>\n",
              "      <td>396</td>\n",
              "      <td>24436.0</td>\n",
              "    </tr>\n",
              "    <tr>\n",
              "      <th>17</th>\n",
              "      <td>685</td>\n",
              "      <td>164460</td>\n",
              "      <td>685</td>\n",
              "      <td>164460.0</td>\n",
              "    </tr>\n",
              "    <tr>\n",
              "      <th>18</th>\n",
              "      <td>521</td>\n",
              "      <td>206407</td>\n",
              "      <td>521</td>\n",
              "      <td>206407.0</td>\n",
              "    </tr>\n",
              "    <tr>\n",
              "      <th>19</th>\n",
              "      <td>612</td>\n",
              "      <td>160454</td>\n",
              "      <td>612</td>\n",
              "      <td>160454.0</td>\n",
              "    </tr>\n",
              "  </tbody>\n",
              "</table>\n",
              "</div>"
            ],
            "text/plain": [
              "    Score_pred  loan_limit_pred  Score  loan_limit\n",
              "0          728           183089    728    183089.0\n",
              "1          428           242356    428    242356.0\n",
              "2          630            85127    630     85127.0\n",
              "3          504            28192    504     28192.0\n",
              "4          509            82207    592     82270.0\n",
              "5          656            77935    656     77935.0\n",
              "6          677           305969    750    305974.0\n",
              "7          661           154586    661    154586.0\n",
              "8          658           121053    658    121053.0\n",
              "9          479            21666    391     21670.0\n",
              "10         581           322872    581    322872.0\n",
              "11         352            29947    352     29947.0\n",
              "12         489           156418    489    156418.0\n",
              "13         333            54980    333     54980.0\n",
              "14         636           185264    636    185264.0\n",
              "15         613           235529    613    235529.0\n",
              "16         396            24436    396     24436.0\n",
              "17         685           164460    685    164460.0\n",
              "18         521           206407    521    206407.0\n",
              "19         612           160454    612    160454.0"
            ]
          },
          "metadata": {},
          "execution_count": 78
        }
      ]
    },
    {
      "cell_type": "code",
      "metadata": {
        "colab": {
          "base_uri": "https://localhost:8080/"
        },
        "id": "B12WnSuooPsY",
        "outputId": "8ca39bf2-fe07-4333-a5c7-4009975d7d6b"
      },
      "source": [
        "pred.shape"
      ],
      "execution_count": 79,
      "outputs": [
        {
          "output_type": "execute_result",
          "data": {
            "text/plain": [
              "(10000, 4)"
            ]
          },
          "metadata": {},
          "execution_count": 79
        }
      ]
    },
    {
      "cell_type": "code",
      "metadata": {
        "id": "v4CI3vSuccsI"
      },
      "source": [
        "# Import pickle Package\n",
        "\n",
        "import pickle"
      ],
      "execution_count": 80,
      "outputs": []
    },
    {
      "cell_type": "code",
      "metadata": {
        "id": "UzO0WUkEccsI"
      },
      "source": [
        "# Save the Modle to file in the current working directory\n",
        "Pkl_Filename = \"Pickle_RL_Model.pkl\"  \n",
        "\n",
        "with open(Pkl_Filename, 'wb') as file:  \n",
        "    pickle.dump(etree, file)"
      ],
      "execution_count": 83,
      "outputs": []
    },
    {
      "cell_type": "code",
      "metadata": {
        "colab": {
          "base_uri": "https://localhost:8080/"
        },
        "id": "KIFe9OI1ccsI",
        "outputId": "12156561-14bb-4be0-bcdf-2b2a11453c35"
      },
      "source": [
        "# Load the Model back from file\n",
        "with open(Pkl_Filename, 'rb') as file:  \n",
        "    Pickled_ET_Model = pickle.load(file)\n",
        "\n",
        "Pickled_ET_Model"
      ],
      "execution_count": 84,
      "outputs": [
        {
          "output_type": "execute_result",
          "data": {
            "text/plain": [
              "ExtraTreesRegressor(bootstrap=False, ccp_alpha=0.0, criterion='mse',\n",
              "                    max_depth=None, max_features='auto', max_leaf_nodes=None,\n",
              "                    max_samples=None, min_impurity_decrease=0.0,\n",
              "                    min_impurity_split=None, min_samples_leaf=1,\n",
              "                    min_samples_split=2, min_weight_fraction_leaf=0.0,\n",
              "                    n_estimators=100, n_jobs=None, oob_score=False,\n",
              "                    random_state=2, verbose=0, warm_start=False)"
            ]
          },
          "metadata": {},
          "execution_count": 84
        }
      ]
    },
    {
      "cell_type": "code",
      "metadata": {
        "colab": {
          "base_uri": "https://localhost:8080/"
        },
        "id": "HnFHbXzoccsJ",
        "outputId": "5ca772f6-1f2d-4b40-9c94-fac921406319"
      },
      "source": [
        "x_train.info()"
      ],
      "execution_count": 85,
      "outputs": [
        {
          "output_type": "stream",
          "name": "stdout",
          "text": [
            "<class 'pandas.core.frame.DataFrame'>\n",
            "Int64Index: 8000 entries, 2857 to 1233\n",
            "Data columns (total 22 columns):\n",
            " #   Column                          Non-Null Count  Dtype  \n",
            "---  ------                          --------------  -----  \n",
            " 0   gender                          8000 non-null   int64  \n",
            " 1   Age                             8000 non-null   int64  \n",
            " 2   Years_in_job                    8000 non-null   int64  \n",
            " 3   Income                          8000 non-null   int64  \n",
            " 4   Province                        8000 non-null   int64  \n",
            " 5   Savings                         8000 non-null   int64  \n",
            " 6   Home_ownership                  8000 non-null   int64  \n",
            " 7   Credit_history                  8000 non-null   int64  \n",
            " 8   Number_of_accs                  8000 non-null   int64  \n",
            " 9   Credit_cards                    8000 non-null   int64  \n",
            " 10  Home_loan                       8000 non-null   int64  \n",
            " 11  Overdraft                       8000 non-null   int64  \n",
            " 12  Student_Loan                    8000 non-null   int64  \n",
            " 13  Non_perfoming_Accs              8000 non-null   int64  \n",
            " 14  Open Accounts                   8000 non-null   int64  \n",
            " 15  Current_In_Arrears              8000 non-null   int64  \n",
            " 16  Current_balance_Amt             8000 non-null   int64  \n",
            " 17  Past_due_Amt                    8000 non-null   float64\n",
            " 18  No_of_enquiries                 8000 non-null   int64  \n",
            " 19  Def                             8000 non-null   int64  \n",
            " 20  monthly_installments            8000 non-null   float64\n",
            " 21  Number_of_installments(months)  8000 non-null   int64  \n",
            "dtypes: float64(2), int64(20)\n",
            "memory usage: 1.4 MB\n"
          ]
        }
      ]
    }
  ]
}